{
 "cells": [
  {
   "cell_type": "code",
   "execution_count": 1,
   "metadata": {},
   "outputs": [
    {
     "name": "stdout",
     "output_type": "stream",
     "text": [
      "    Unnamed: 2  Unnamed: 3  Unnamed: 4  Unnamed: 5  Unnamed: 6\n",
      "0     3.629292    7.537339   10.330210        1069        59.4\n",
      "1     1.722373    5.897855    2.225990         636        75.7\n",
      "2     4.982116    8.530534    3.846767        2114        88.3\n",
      "3     2.465621    9.682211    1.654622         987        80.4\n",
      "4     3.588092    3.998810    3.932707        1213        67.8\n",
      "5     6.419904    2.470016    4.358379        2370        74.2\n",
      "6     3.570330    8.084750    3.706442        1545        85.3\n",
      "7     3.452406    3.777429    8.080660         642        37.0\n",
      "8     1.994842    8.723075    2.328043         777        85.1\n",
      "9     2.235267    5.417737    3.099826         895        77.5\n",
      "10    3.605487    4.430586    5.870052        1085        60.3\n",
      "11    3.131779    9.526749   10.914335         942        60.3\n",
      "12    2.909482    3.053407    7.384411         274        19.3\n",
      "13    1.707358    8.873867    9.672903         260        31.1\n",
      "14    4.318888    7.175604    8.689962        1511        70.2\n",
      "15    4.270730    8.589587    1.546525        2050        94.1\n",
      "16    5.651204    6.067873    3.082034        2603        91.1\n",
      "17    5.018372    4.934599    5.174474        2049        80.4\n",
      "18    1.745079    4.542650   11.258431           0         0.0\n",
      "19    2.022126    3.253090    7.050050          12         1.2\n",
      "20    5.991424    6.532609    5.664266        2569        84.3\n",
      "21    6.164098    8.917814    5.999634        2710        88.6\n",
      "22    6.960631    1.227973    5.517228        1000        29.4\n",
      "23    4.959777    2.989410   10.717948         567        23.4\n",
      "24    5.796960    8.854640    6.388714        2617        88.0\n",
      "25    3.778344    3.634602   11.462874         362        18.9\n",
      "26    2.364727    2.202490    2.766808         458        41.3\n",
      "27    1.986419    2.171728   11.417890           0         0.0\n",
      "28    5.058290    6.556505    3.844417        2156        87.5\n",
      "29    4.794794    2.088229    1.714713        1927        79.3\n"
     ]
    },
    {
     "name": "stderr",
     "output_type": "stream",
     "text": [
      "c:\\ProgramData\\anaconda3\\Lib\\site-packages\\openpyxl\\reader\\workbook.py:88: UserWarning: File contains an invalid specification for Module1. This will be removed\n",
      "  warn(msg)\n"
     ]
    }
   ],
   "source": [
    "import pandas as pd\n",
    "import numpy as np\n",
    "\n",
    "from scipy.optimize import differential_evolution\n",
    "\n",
    "from openpyxl import load_workbook\n",
    "\n",
    "wb = load_workbook('./Lab2_optimal.xlsx')\n",
    "\n",
    "# Чтение данных со столбцов C209:D238 на листе \"Анализ модели\" \n",
    "df = pd.read_excel('Lab2.xlsm', sheet_name='Анализ модели', usecols='C:G', skiprows=range(1, 208), nrows=30)\n",
    "\n",
    "res_data = pd.DataFrame()\n",
    "\n",
    "\n",
    "print(df)"
   ]
  },
  {
   "cell_type": "code",
   "execution_count": 2,
   "metadata": {},
   "outputs": [],
   "source": [
    "x1 = df['Unnamed: 2'].to_numpy()\n",
    "x2 = df['Unnamed: 3'].to_numpy()\n",
    "x3 = df['Unnamed: 4'].to_numpy()\n",
    "y1 = df['Unnamed: 5'].to_numpy()\n",
    "y2 = df['Unnamed: 6'].to_numpy()\n",
    "x4 = x1 * x1\n",
    "x5 = x1 * x2\n",
    "x6 = x1 * x3\n",
    "x7 = x2 * x2\n",
    "x8 = x2 * x3\n",
    "x9 = x3 * x3\n",
    "\n",
    "\n"
   ]
  },
  {
   "cell_type": "code",
   "execution_count": 3,
   "metadata": {},
   "outputs": [],
   "source": [
    "xLinear = np.array([x1, x2, x3], dtype=\"float\").T\n",
    "xSqare = np.array([x1, x2, x3, x4, x5, x6, x7, x8, x9], dtype=\"float\").T"
   ]
  },
  {
   "cell_type": "code",
   "execution_count": 4,
   "metadata": {},
   "outputs": [
    {
     "name": "stdout",
     "output_type": "stream",
     "text": [
      "Linear regression for first parameter Y\n",
      "                            OLS Regression Results                            \n",
      "==============================================================================\n",
      "Dep. Variable:                      y   R-squared:                       0.880\n",
      "Model:                            OLS   Adj. R-squared:                  0.867\n",
      "Method:                 Least Squares   F-statistic:                     63.83\n",
      "Date:                Sun, 24 Dec 2023   Prob (F-statistic):           4.02e-12\n",
      "Time:                        21:55:11   Log-Likelihood:                -213.38\n",
      "No. Observations:                  30   AIC:                             434.8\n",
      "Df Residuals:                      26   BIC:                             440.4\n",
      "Df Model:                           3                                         \n",
      "Covariance Type:            nonrobust                                         \n",
      "==============================================================================\n",
      "                 coef    std err          t      P>|t|      [0.025      0.975]\n",
      "------------------------------------------------------------------------------\n",
      "const       -591.2580    256.358     -2.306      0.029   -1118.210     -64.306\n",
      "x1           425.8140     38.081     11.182      0.000     347.537     504.091\n",
      "x2           117.9611     22.699      5.197      0.000      71.302     164.620\n",
      "x3           -80.1662     18.371     -4.364      0.000    -117.929     -42.404\n",
      "==============================================================================\n",
      "Omnibus:                       19.553   Durbin-Watson:                   1.578\n",
      "Prob(Omnibus):                  0.000   Jarque-Bera (JB):               27.963\n",
      "Skew:                          -1.561   Prob(JB):                     8.47e-07\n",
      "Kurtosis:                       6.554   Cond. No.                         42.1\n",
      "==============================================================================\n",
      "\n",
      "Notes:\n",
      "[1] Standard Errors assume that the covariance matrix of the errors is correctly specified.\n"
     ]
    }
   ],
   "source": [
    "import statsmodels.api as sm\n",
    "\n",
    "model = sm.OLS(y1, sm.add_constant(xLinear))\n",
    "results = model.fit()\n",
    "print(\"Linear regression for first parameter Y\")\n",
    "print(results.summary())\n"
   ]
  },
  {
   "cell_type": "code",
   "execution_count": 5,
   "metadata": {},
   "outputs": [
    {
     "name": "stdout",
     "output_type": "stream",
     "text": [
      "0.880457157404635\n"
     ]
    }
   ],
   "source": [
    "print(results.rsquared)"
   ]
  },
  {
   "cell_type": "code",
   "execution_count": 6,
   "metadata": {},
   "outputs": [
    {
     "name": "stdout",
     "output_type": "stream",
     "text": [
      "Linear regression for first parameter Y\n",
      "                            OLS Regression Results                            \n",
      "==============================================================================\n",
      "Dep. Variable:                      y   R-squared:                       0.966\n",
      "Model:                            OLS   Adj. R-squared:                  0.951\n",
      "Method:                 Least Squares   F-statistic:                     63.80\n",
      "Date:                Sun, 24 Dec 2023   Prob (F-statistic):           9.16e-13\n",
      "Time:                        21:55:11   Log-Likelihood:                -194.37\n",
      "No. Observations:                  30   AIC:                             408.7\n",
      "Df Residuals:                      20   BIC:                             422.8\n",
      "Df Model:                           9                                         \n",
      "Covariance Type:            nonrobust                                         \n",
      "==============================================================================\n",
      "                 coef    std err          t      P>|t|      [0.025      0.975]\n",
      "------------------------------------------------------------------------------\n",
      "const       -384.4138    595.648     -0.645      0.526   -1626.914     858.086\n",
      "x1           422.5208    187.780      2.250      0.036      30.818     814.224\n",
      "x2           188.0376    106.463      1.766      0.093     -34.040     410.115\n",
      "x3          -168.7633     91.873     -1.837      0.081    -360.406      22.879\n",
      "x4            -0.6981     18.585     -0.038      0.970     -39.467      38.070\n",
      "x5            33.7104      9.164      3.678      0.001      14.594      52.827\n",
      "x6           -26.8324      9.523     -2.818      0.011     -46.697      -6.968\n",
      "x7           -23.6017      7.741     -3.049      0.006     -39.749      -7.455\n",
      "x8            10.9541      4.345      2.521      0.020       1.891      20.018\n",
      "x9             8.1515      5.178      1.574      0.131      -2.651      18.954\n",
      "==============================================================================\n",
      "Omnibus:                        2.995   Durbin-Watson:                   2.360\n",
      "Prob(Omnibus):                  0.224   Jarque-Bera (JB):                1.612\n",
      "Skew:                           0.410   Prob(JB):                        0.447\n",
      "Kurtosis:                       3.787   Cond. No.                     1.56e+03\n",
      "==============================================================================\n",
      "\n",
      "Notes:\n",
      "[1] Standard Errors assume that the covariance matrix of the errors is correctly specified.\n",
      "[2] The condition number is large, 1.56e+03. This might indicate that there are\n",
      "strong multicollinearity or other numerical problems.\n"
     ]
    }
   ],
   "source": [
    "model = sm.OLS(y1, sm.add_constant(xSqare))\n",
    "results = model.fit()\n",
    "print(\"Linear regression for first parameter Y\")\n",
    "print(results.summary())\n",
    "res_data['y1'] = pd.DataFrame(results.params) "
   ]
  },
  {
   "cell_type": "code",
   "execution_count": 7,
   "metadata": {},
   "outputs": [
    {
     "name": "stdout",
     "output_type": "stream",
     "text": [
      "0.96633975375161\n"
     ]
    }
   ],
   "source": [
    "print(results.rsquared)"
   ]
  },
  {
   "cell_type": "code",
   "execution_count": 8,
   "metadata": {},
   "outputs": [
    {
     "name": "stdout",
     "output_type": "stream",
     "text": [
      "Linear regression for first parameter Y\n",
      "                            OLS Regression Results                            \n",
      "==============================================================================\n",
      "Dep. Variable:                      y   R-squared:                       0.868\n",
      "Model:                            OLS   Adj. R-squared:                  0.853\n",
      "Method:                 Least Squares   F-statistic:                     56.92\n",
      "Date:                Sun, 24 Dec 2023   Prob (F-statistic):           1.47e-11\n",
      "Time:                        21:55:11   Log-Likelihood:                -114.39\n",
      "No. Observations:                  30   AIC:                             236.8\n",
      "Df Residuals:                      26   BIC:                             242.4\n",
      "Df Model:                           3                                         \n",
      "Covariance Type:            nonrobust                                         \n",
      "==============================================================================\n",
      "                 coef    std err          t      P>|t|      [0.025      0.975]\n",
      "------------------------------------------------------------------------------\n",
      "const         29.4124      9.456      3.110      0.004       9.974      48.851\n",
      "x1             7.0886      1.405      5.046      0.000       4.201       9.976\n",
      "x2             6.1133      0.837      7.301      0.000       4.392       7.834\n",
      "x3            -5.3703      0.678     -7.925      0.000      -6.763      -3.977\n",
      "==============================================================================\n",
      "Omnibus:                        3.317   Durbin-Watson:                   1.689\n",
      "Prob(Omnibus):                  0.190   Jarque-Bera (JB):                2.592\n",
      "Skew:                          -0.719   Prob(JB):                        0.274\n",
      "Kurtosis:                       2.930   Cond. No.                         42.1\n",
      "==============================================================================\n",
      "\n",
      "Notes:\n",
      "[1] Standard Errors assume that the covariance matrix of the errors is correctly specified.\n"
     ]
    }
   ],
   "source": [
    "model = sm.OLS(y2, sm.add_constant(xLinear))\n",
    "results = model.fit()\n",
    "print(\"Linear regression for first parameter Y\")\n",
    "print(results.summary())"
   ]
  },
  {
   "cell_type": "code",
   "execution_count": 9,
   "metadata": {},
   "outputs": [
    {
     "name": "stdout",
     "output_type": "stream",
     "text": [
      "0.8678500439969641\n"
     ]
    }
   ],
   "source": [
    "print(results.rsquared)"
   ]
  },
  {
   "cell_type": "code",
   "execution_count": 10,
   "metadata": {},
   "outputs": [
    {
     "name": "stdout",
     "output_type": "stream",
     "text": [
      "Linear regression for first parameter Y\n",
      "                            OLS Regression Results                            \n",
      "==============================================================================\n",
      "Dep. Variable:                      y   R-squared:                       0.943\n",
      "Model:                            OLS   Adj. R-squared:                  0.917\n",
      "Method:                 Least Squares   F-statistic:                     36.67\n",
      "Date:                Sun, 24 Dec 2023   Prob (F-statistic):           1.68e-10\n",
      "Time:                        21:55:11   Log-Likelihood:                -101.81\n",
      "No. Observations:                  30   AIC:                             223.6\n",
      "Df Residuals:                      20   BIC:                             237.6\n",
      "Df Model:                           9                                         \n",
      "Covariance Type:            nonrobust                                         \n",
      "==============================================================================\n",
      "                 coef    std err          t      P>|t|      [0.025      0.975]\n",
      "------------------------------------------------------------------------------\n",
      "const         27.6509     27.226      1.016      0.322     -29.141      84.443\n",
      "x1            14.7601      8.583      1.720      0.101      -3.144      32.664\n",
      "x2            14.6745      4.866      3.016      0.007       4.524      24.825\n",
      "x3           -16.3880      4.199     -3.903      0.001     -25.148      -7.628\n",
      "x4            -1.1683      0.850     -1.375      0.184      -2.940       0.604\n",
      "x5             0.0505      0.419      0.120      0.905      -0.823       0.924\n",
      "x6             0.4720      0.435      1.084      0.291      -0.436       1.380\n",
      "x7            -1.0867      0.354     -3.071      0.006      -1.825      -0.349\n",
      "x8             0.5478      0.199      2.758      0.012       0.133       0.962\n",
      "x9             0.4831      0.237      2.041      0.055      -0.011       0.977\n",
      "==============================================================================\n",
      "Omnibus:                        3.296   Durbin-Watson:                   1.876\n",
      "Prob(Omnibus):                  0.192   Jarque-Bera (JB):                1.855\n",
      "Skew:                           0.480   Prob(JB):                        0.395\n",
      "Kurtosis:                       3.749   Cond. No.                     1.56e+03\n",
      "==============================================================================\n",
      "\n",
      "Notes:\n",
      "[1] Standard Errors assume that the covariance matrix of the errors is correctly specified.\n",
      "[2] The condition number is large, 1.56e+03. This might indicate that there are\n",
      "strong multicollinearity or other numerical problems.\n"
     ]
    }
   ],
   "source": [
    "model = sm.OLS(y2, sm.add_constant(xSqare))\n",
    "results = model.fit()\n",
    "print(\"Linear regression for first parameter Y\")\n",
    "print(results.summary())\n",
    "res_data['y2'] = pd.DataFrame(results.params) "
   ]
  },
  {
   "cell_type": "code",
   "execution_count": 11,
   "metadata": {},
   "outputs": [
    {
     "name": "stdout",
     "output_type": "stream",
     "text": [
      "0.9428679960467623\n"
     ]
    }
   ],
   "source": [
    "print(results.rsquared)"
   ]
  },
  {
   "cell_type": "code",
   "execution_count": 12,
   "metadata": {},
   "outputs": [],
   "source": [
    "sheet_name = 'list1'\n",
    "ws = wb[sheet_name]\n",
    "\n",
    "start_row = ws.max_row + 1  \n",
    "\n",
    "\n",
    "for index, row in res_data.iterrows():\n",
    "    ws.cell(row=start_row + index, column=1, value=row['y1'])\n",
    "    ws.cell(row=start_row + index, column=2, value=row['y2'])\n",
    "\n",
    "\n",
    "wb.save('./Lab2_optimal.xlsx')"
   ]
  },
  {
   "cell_type": "code",
   "execution_count": 26,
   "metadata": {},
   "outputs": [
    {
     "data": {
      "text/plain": [
       "1    23.435228\n",
       "Name: 1, dtype: float64"
      ]
     },
     "execution_count": 26,
     "metadata": {},
     "output_type": "execute_result"
    }
   ],
   "source": [
    "optimal = pd.read_excel('Lab2_optimal.xlsx', sheet_name='list1', usecols='H', skiprows=range(1, 4), nrows=2)\n",
    "optimal.iloc[1]"
   ]
  },
  {
   "cell_type": "code",
   "execution_count": 28,
   "metadata": {},
   "outputs": [
    {
     "data": {
      "image/png": "[encoded data removed]",
      "text/plain": [
       "<Figure size 640x480 with 1 Axes>"
      ]
     },
     "metadata": {},
     "output_type": "display_data"
    }
   ],
   "source": [
    "import matplotlib.pyplot as plt\n",
    "\n",
    "plt.scatter(y1, y2, label='Показатели выборки')\n",
    "plt.scatter(optimal.iloc[0], optimal.iloc[1], marker='x', label='Оптимальные значения')\n",
    "plt.xlabel('Время занятости каждого прибора обслуживания')\n",
    "plt.ylabel('Количество необслуженных заявок')\n",
    "plt.legend()\n",
    "plt.grid()\n",
    "plt.show()"
   ]
  }
 ],
 "metadata": {
  "kernelspec": {
   "display_name": "base",
   "language": "python",
   "name": "python3"
  },
  "language_info": {
   "codemirror_mode": {
    "name": "ipython",
    "version": 3
   },
   "file_extension": ".py",
   "mimetype": "text/x-python",
   "name": "python",
   "nbconvert_exporter": "python",
   "pygments_lexer": "ipython3",
   "version": "3.11.4"
  }
 },
 "nbformat": 4,
 "nbformat_minor": 2
}
